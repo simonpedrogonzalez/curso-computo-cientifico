{
 "cells": [
  {
   "cell_type": "code",
   "execution_count": 149,
   "metadata": {},
   "outputs": [
    {
     "name": "stdout",
     "output_type": "stream",
     "text": [
      "Este es el texto a  \r\n",
      "justificar y es muy \r\n",
      "largo y que se yo   \n"
     ]
    }
   ],
   "source": [
    "def ambos(s):\n",
    "    if len(s) > 2:\n",
    "        return s[:2]+s[-2:]\n",
    "    else:\n",
    "        return ''\n",
    "    \n",
    "def fix(s):\n",
    "    for c in s:\n",
    "        s = '*'.join(s.rsplit(c, s.count(c)-1))\n",
    "    return s\n",
    "\n",
    "def mezclar(a, b):\n",
    "    return b[0]+a[1:]+' '+a[0]+b[1:]\n",
    "\n",
    "def macheos(l):\n",
    "    return sum([len(s)>=2 and s[-1]==s[-2] for s in l])\n",
    "\n",
    "def front_x(l):\n",
    "    x, no_x = [], []\n",
    "    for s in l:\n",
    "        x.append(s) if s[0] == 'x' else no_x.append(s)\n",
    "    x.sort()\n",
    "    no_x.sort()\n",
    "    return x + no_x\n",
    "\n",
    "def sort_last(l):\n",
    "    l.sort(key = lambda x : x[-1])\n",
    "    return l\n",
    "\n",
    "def tablas(nro):\n",
    "    return [nro*i for i in range(1, 11)]\n",
    "    \n",
    "def mapeo(s):\n",
    "    return {c : i for i, c in enumerate(set(s))}\n",
    "\n",
    "def busqueda_reversa(d, n):\n",
    "    return {v: k for k, v in d.items()}.get(n)\n",
    "    \n",
    "def invitados(d):\n",
    "    return [k for k, v in d.items() if v == 'Asistirá']\n",
    "\n",
    "def justificar(text, chars_per_line):\n",
    "    line_count = len(text)//chars_per_line\n",
    "    l = text.split()\n",
    "    i = 1\n",
    "    lines = []\n",
    "    current_line = l[0]\n",
    "    while i<len(l):\n",
    "        if len(current_line) + len(l[i]) + 1 <= chars_per_line:\n",
    "            current_line+=' '+l[i]\n",
    "        else:\n",
    "            lines.append(current_line+' '*(chars_per_line-len(current_line))+'\\r\\n')\n",
    "            current_line = l[i]\n",
    "        i+=1\n",
    "    lines.append(current_line+' '*(chars_per_line-len(current_line)))\n",
    "    return ''.join(lines)\n",
    "\n",
    "fix('palabra')\n",
    "mezclar('mix', 'pod')\n",
    "macheos(['a', 'aa', 'baa', 'bab'])\n",
    "front_x(['mix', 'xyz', 'apple', 'xanadu', 'aardvark'])\n",
    "sort_last([(1, 7), (1, 3), (3, 4, 5), (2, 2)])\n",
    "tablas(3)\n",
    "mapeo(\"casa\")\n",
    "busqueda_reversa(mapeo(\"casa\"), 2)\n",
    "invitados({'a':'Asistirá', 'b':'No asistirá', 'c':'No asistirá', 'd':'Asistirá'})\n",
    "print(justificar(\"Este es el texto a justificar y es muy largo y que se yo\", 20))"
   ]
  },
  {
   "cell_type": "code",
   "execution_count": 8,
   "metadata": {},
   "outputs": [
    {
     "data": {
      "text/plain": [
       "'abierto'"
      ]
     },
     "execution_count": 8,
     "metadata": {},
     "output_type": "execute_result"
    }
   ],
   "source": [
    "class cerrojo:\n",
    "    def __init__(self, combinacion):\n",
    "        self.combinacion = combinacion\n",
    "        self.estado = 'cerrado'\n",
    "    \n",
    "    \n",
    "    def cambiar(self, combinacion):\n",
    "        self.combinacion = combinacion\n",
    "    \n",
    "    \n",
    "    def abrir(self, combinacion):\n",
    "        if combinacion == self.combinacion:\n",
    "            self.estado = 'abierto'\n",
    "    \n",
    "    def cerrar(self):\n",
    "        self.estado = 'cerrado'\n",
    "\n",
    "c = cerrojo(333)\n",
    "c.abrir(222)\n",
    "c.estado\n",
    "c.abrir(333)\n",
    "c.estado"
   ]
  },
  {
   "cell_type": "code",
   "execution_count": 32,
   "metadata": {},
   "outputs": [
    {
     "data": {
      "text/plain": [
       "{'c': 0, 'a': 3, 's': 2}"
      ]
     },
     "execution_count": 32,
     "metadata": {},
     "output_type": "execute_result"
    }
   ],
   "source": [
    "class Estudiante:\n",
    "    def __init__(self, nombre, numero):\n",
    "        self.nombre = nombre\n",
    "        self.numero = numero\n",
    "        \n",
    "class EstudianteOcupacional(Estudiante):\n",
    "    \n",
    "    def __init__(self, ):\n",
    "        "
   ]
  },
  {
   "cell_type": "code",
   "execution_count": 19,
   "metadata": {},
   "outputs": [],
   "source": [
    "import types\n",
    "import inspect\n",
    "import sys\n",
    "\n",
    "def silence(func):\n",
    "    def wrapper(*args, **kwds):\n",
    "        try:\n",
    "            return func(*args, **kwds)\n",
    "        except Exception as e:\n",
    "            raise SilencedWarning(e)\n",
    "            return wrapper\n",
    "        return decorator"
   ]
  },
  {
   "cell_type": "code",
   "execution_count": 20,
   "metadata": {},
   "outputs": [
    {
     "ename": "TypeError",
     "evalue": "'NoneType' object is not callable",
     "output_type": "error",
     "traceback": [
      "\u001b[0;31m---------------------------------------------------------------------------\u001b[0m",
      "\u001b[0;31mTypeError\u001b[0m                                 Traceback (most recent call last)",
      "\u001b[0;32m<ipython-input-20-7167bcb0da84>\u001b[0m in \u001b[0;36m<module>\u001b[0;34m\u001b[0m\n\u001b[1;32m      3\u001b[0m     \u001b[0;32mreturn\u001b[0m \u001b[0marg1\u001b[0m \u001b[0;34m/\u001b[0m \u001b[0marg2\u001b[0m\u001b[0;34m\u001b[0m\u001b[0;34m\u001b[0m\u001b[0m\n\u001b[1;32m      4\u001b[0m \u001b[0;34m\u001b[0m\u001b[0m\n\u001b[0;32m----> 5\u001b[0;31m \u001b[0mdivision\u001b[0m\u001b[0;34m(\u001b[0m\u001b[0;36m5\u001b[0m\u001b[0;34m,\u001b[0m \u001b[0;36m0\u001b[0m\u001b[0;34m)\u001b[0m\u001b[0;34m\u001b[0m\u001b[0;34m\u001b[0m\u001b[0m\n\u001b[0m",
      "\u001b[0;31mTypeError\u001b[0m: 'NoneType' object is not callable"
     ]
    }
   ],
   "source": [
    "@silence\n",
    "def division(arg1, arg2):\n",
    "    return arg1 / arg2\n",
    "\n",
    "division(5, 0)"
   ]
  },
  {
   "cell_type": "code",
   "execution_count": 33,
   "metadata": {},
   "outputs": [
    {
     "name": "stdout",
     "output_type": "stream",
     "text": [
      "Hi, foo has been called with 1\n"
     ]
    },
    {
     "ename": "SilencedWarning",
     "evalue": "division by zero",
     "output_type": "error",
     "traceback": [
      "\u001b[0;31m---------------------------------------------------------------------------\u001b[0m",
      "\u001b[0;31mZeroDivisionError\u001b[0m                         Traceback (most recent call last)",
      "\u001b[0;32m<ipython-input-33-649231123923>\u001b[0m in \u001b[0;36mfunction_wrapper\u001b[0;34m(*args, **kwds)\u001b[0m\n\u001b[1;32m      6\u001b[0m         \u001b[0;32mtry\u001b[0m\u001b[0;34m:\u001b[0m\u001b[0;34m\u001b[0m\u001b[0;34m\u001b[0m\u001b[0m\n\u001b[0;32m----> 7\u001b[0;31m             \u001b[0;32mreturn\u001b[0m \u001b[0mfunc\u001b[0m\u001b[0;34m(\u001b[0m\u001b[0;34m*\u001b[0m\u001b[0margs\u001b[0m\u001b[0;34m,\u001b[0m \u001b[0;34m**\u001b[0m\u001b[0mkwds\u001b[0m\u001b[0;34m)\u001b[0m\u001b[0;34m\u001b[0m\u001b[0;34m\u001b[0m\u001b[0m\n\u001b[0m\u001b[1;32m      8\u001b[0m         \u001b[0;32mexcept\u001b[0m \u001b[0mException\u001b[0m \u001b[0;32mas\u001b[0m \u001b[0me\u001b[0m\u001b[0;34m:\u001b[0m\u001b[0;34m\u001b[0m\u001b[0;34m\u001b[0m\u001b[0m\n",
      "\u001b[0;32m<ipython-input-33-649231123923>\u001b[0m in \u001b[0;36mfoo\u001b[0;34m(a, b)\u001b[0m\n\u001b[1;32m     14\u001b[0m     \u001b[0mprint\u001b[0m\u001b[0;34m(\u001b[0m\u001b[0;34m\"Hi, foo has been called with \"\u001b[0m \u001b[0;34m+\u001b[0m \u001b[0mstr\u001b[0m\u001b[0;34m(\u001b[0m\u001b[0ma\u001b[0m\u001b[0;34m)\u001b[0m\u001b[0;34m)\u001b[0m\u001b[0;34m\u001b[0m\u001b[0;34m\u001b[0m\u001b[0m\n\u001b[0;32m---> 15\u001b[0;31m     \u001b[0;32mreturn\u001b[0m \u001b[0ma\u001b[0m\u001b[0;34m/\u001b[0m\u001b[0mb\u001b[0m\u001b[0;34m\u001b[0m\u001b[0;34m\u001b[0m\u001b[0m\n\u001b[0m\u001b[1;32m     16\u001b[0m \u001b[0;34m\u001b[0m\u001b[0m\n",
      "\u001b[0;31mZeroDivisionError\u001b[0m: division by zero",
      "\nDuring handling of the above exception, another exception occurred:\n",
      "\u001b[0;31mSilencedWarning\u001b[0m                           Traceback (most recent call last)",
      "\u001b[0;32m<ipython-input-33-649231123923>\u001b[0m in \u001b[0;36m<module>\u001b[0;34m\u001b[0m\n\u001b[1;32m     15\u001b[0m     \u001b[0;32mreturn\u001b[0m \u001b[0ma\u001b[0m\u001b[0;34m/\u001b[0m\u001b[0mb\u001b[0m\u001b[0;34m\u001b[0m\u001b[0;34m\u001b[0m\u001b[0m\n\u001b[1;32m     16\u001b[0m \u001b[0;34m\u001b[0m\u001b[0m\n\u001b[0;32m---> 17\u001b[0;31m \u001b[0mfoo\u001b[0m\u001b[0;34m(\u001b[0m\u001b[0;36m1\u001b[0m\u001b[0;34m,\u001b[0m\u001b[0;36m0\u001b[0m\u001b[0;34m)\u001b[0m\u001b[0;34m\u001b[0m\u001b[0;34m\u001b[0m\u001b[0m\n\u001b[0m",
      "\u001b[0;32m<ipython-input-33-649231123923>\u001b[0m in \u001b[0;36mfunction_wrapper\u001b[0;34m(*args, **kwds)\u001b[0m\n\u001b[1;32m      7\u001b[0m             \u001b[0;32mreturn\u001b[0m \u001b[0mfunc\u001b[0m\u001b[0;34m(\u001b[0m\u001b[0;34m*\u001b[0m\u001b[0margs\u001b[0m\u001b[0;34m,\u001b[0m \u001b[0;34m**\u001b[0m\u001b[0mkwds\u001b[0m\u001b[0;34m)\u001b[0m\u001b[0;34m\u001b[0m\u001b[0;34m\u001b[0m\u001b[0m\n\u001b[1;32m      8\u001b[0m         \u001b[0;32mexcept\u001b[0m \u001b[0mException\u001b[0m \u001b[0;32mas\u001b[0m \u001b[0me\u001b[0m\u001b[0;34m:\u001b[0m\u001b[0;34m\u001b[0m\u001b[0;34m\u001b[0m\u001b[0m\n\u001b[0;32m----> 9\u001b[0;31m             \u001b[0;32mraise\u001b[0m \u001b[0mSilencedWarning\u001b[0m\u001b[0;34m(\u001b[0m\u001b[0me\u001b[0m\u001b[0;34m)\u001b[0m\u001b[0;34m\u001b[0m\u001b[0;34m\u001b[0m\u001b[0m\n\u001b[0m\u001b[1;32m     10\u001b[0m     \u001b[0;32mreturn\u001b[0m \u001b[0mfunction_wrapper\u001b[0m\u001b[0;34m\u001b[0m\u001b[0;34m\u001b[0m\u001b[0m\n\u001b[1;32m     11\u001b[0m \u001b[0;34m\u001b[0m\u001b[0m\n",
      "\u001b[0;31mSilencedWarning\u001b[0m: division by zero"
     ]
    }
   ],
   "source": [
    "class SilencedWarning(UserWarning):\n",
    "    ...\n",
    "\n",
    "def our_decorator(func):\n",
    "    def function_wrapper(*args, **kwds):\n",
    "        try:\n",
    "            return func(*args, **kwds)\n",
    "        except Exception as e:\n",
    "            raise SilencedWarning(e)\n",
    "    return function_wrapper\n",
    "\n",
    "@our_decorator\n",
    "def foo(a,b):\n",
    "    print(\"Hi, foo has been called with \" + str(a))\n",
    "    return a/b\n",
    "\n",
    "foo(1,0)"
   ]
  },
  {
   "cell_type": "code",
   "execution_count": 63,
   "metadata": {},
   "outputs": [
    {
     "name": "stderr",
     "output_type": "stream",
     "text": [
      "/home/simon/.local/lib/python3.7/site-packages/ipykernel_launcher.py:14: SilencedWarning: unsupported operand type(s) for /: 'int' and 'str'\n",
      "  \n"
     ]
    }
   ],
   "source": [
    "import warnings\n",
    "\n",
    "class SilencedWarning(UserWarning):\n",
    "    ...\n",
    "\n",
    "def silence(*args):\n",
    "    errors = tuple(args)\n",
    "    def decorator(func):\n",
    "        def wrapper(*args, **kwargs):\n",
    "            try:\n",
    "                return func(*args, **kwargs)\n",
    "            except Exception as err:\n",
    "                if isinstance(err, errors):\n",
    "                    warnings.warn(str(err), SilencedWarning)\n",
    "                else:\n",
    "                    raise\n",
    "        return wrapper\n",
    "    return decorator\n",
    "\n",
    "@silence(ZeroDivisionError, TypeError)\n",
    "def foo(a,b):\n",
    "    return a/b\n",
    "\n",
    "foo(1,\"coso\")"
   ]
  },
  {
   "cell_type": "code",
   "execution_count": null,
   "metadata": {},
   "outputs": [],
   "source": []
  }
 ],
 "metadata": {
  "kernelspec": {
   "display_name": "Python 3",
   "language": "python",
   "name": "python3"
  },
  "language_info": {
   "codemirror_mode": {
    "name": "ipython",
    "version": 3
   },
   "file_extension": ".py",
   "mimetype": "text/x-python",
   "name": "python",
   "nbconvert_exporter": "python",
   "pygments_lexer": "ipython3",
   "version": "3.7.6"
  }
 },
 "nbformat": 4,
 "nbformat_minor": 2
}
